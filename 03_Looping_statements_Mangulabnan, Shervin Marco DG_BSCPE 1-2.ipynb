{
 "cells": [
  {
   "cell_type": "markdown",
   "id": "f295bf2a-200e-40cb-9012-d20b00639f7f",
   "metadata": {},
   "source": [
    "#### **Data Structures and Algorithms**    \n",
    "**Laboratory Exercise 2**  \n",
    "Date of Creation: October 3, 2024\n",
    "\n",
    "_Mangulabnan, Shervin Marco DG._"
   ]
  },
  {
   "cell_type": "markdown",
   "id": "71f51a3f-9903-4224-86de-0d3885bd5d7c",
   "metadata": {},
   "source": [
    "**Exercise 1: Calculate powers**  \n",
    "A teacher named Mrs. Rivera who loved making math fun for her students. One day, a student named Mia asked how to calculate powers, like (2^7). Mrs. Rivera explained, \"Imagine you need to multiply 2 by itself seven times. We can solve this using a python code utilizing special method called recursion to solve this,\"\n",
    "\n",
    "Can you help the class of Mrs. Rivera by providing the recursive method to calculate powers?"
   ]
  },
  {
   "cell_type": "code",
   "execution_count": 6,
   "id": "a1fe9b52-c835-4b73-8342-cb8c8ed1081d",
   "metadata": {},
   "outputs": [
    {
     "name": "stdin",
     "output_type": "stream",
     "text": [
      "Enter the base:  5\n",
      "Enter the exponent:  3\n"
     ]
    },
    {
     "name": "stdout",
     "output_type": "stream",
     "text": [
      "The calculation of 5^3 is 125.\n"
     ]
    }
   ],
   "source": [
    "def calculate_power(base, exponent):\n",
    "    # Base case: any number to the power of 0 is 1\n",
    "    if exponent == 0:\n",
    "        return 1\n",
    "    # Recursive case: base^exponent = base * base^(exponent - 1)\n",
    "    else:\n",
    "        return base * calculate_power(base, exponent - 1)\n",
    "\n",
    "# Ask user for base and exponent\n",
    "base = int(input(\"Enter the base: \"))\n",
    "exponent = int(input(\"Enter the exponent: \"))\n",
    "\n",
    "# Calculate the power\n",
    "result = calculate_power(base, exponent)\n",
    "\n",
    "# Output the result\n",
    "print(f\"The calculation of {base}^{exponent} is {result}.\")"
   ]
  },
  {
   "cell_type": "markdown",
   "id": "9c0983aa-f65f-4f96-8431-8d98cce3dd30",
   "metadata": {},
   "source": [
    "\n",
    "**Exercise 2: Cube of Integers**  \n",
    "Compute for the cube of integers.\n",
    "    \n",
    "Steps:  \n",
    "1. Input the size of the array.  \n",
    "2. input the elements of the array.  \n",
    "3. display the cube of each element.  "
   ]
  },
  {
   "cell_type": "code",
   "execution_count": 8,
   "id": "4ffa8c38-ab24-43bd-903e-2f9606e5f211",
   "metadata": {},
   "outputs": [
    {
     "name": "stdin",
     "output_type": "stream",
     "text": [
      "Enter the size of the array:  5\n",
      "Enter the elements separated by space:  1 2 3 4 5\n"
     ]
    },
    {
     "name": "stdout",
     "output_type": "stream",
     "text": [
      "1\n",
      "8\n",
      "27\n",
      "64\n",
      "125\n"
     ]
    }
   ],
   "source": [
    "def cube_of_integers(arr):\n",
    "    # Loop through each element and print its cube\n",
    "    for num in arr:\n",
    "        print(num ** 3)\n",
    "\n",
    "size = int(input(\"Enter the size of the array: \")) #input the size of the array\n",
    "\n",
    "arr = list(map(int, input(\"Enter the elements separated by space: \").split())) # input the elements of the array(space-separated) and convert them to integers\n",
    "\n",
    "cube_of_integers(arr) # display the cube of each element"
   ]
  },
  {
   "cell_type": "markdown",
   "id": "cb03536b-6274-468a-b05c-e6b6a2ab7ce4",
   "metadata": {},
   "source": [
    "**Exercise 3: Hollow square**  \n",
    "Generate a hollow square based on the + integer input side length n."
   ]
  },
  {
   "cell_type": "code",
   "execution_count": 10,
   "id": "3cf10aef-3698-4d3b-8cfe-9bad9280ffcb",
   "metadata": {},
   "outputs": [
    {
     "name": "stdin",
     "output_type": "stream",
     "text": [
      "Enter the side length of the square:  9\n"
     ]
    },
    {
     "name": "stdout",
     "output_type": "stream",
     "text": [
      "XXXXXXXXX\n",
      "X       X\n",
      "X       X\n",
      "X       X\n",
      "X       X\n",
      "X       X\n",
      "X       X\n",
      "X       X\n",
      "XXXXXXXXX\n"
     ]
    }
   ],
   "source": [
    "def hollow_square(n):\n",
    "    print(\"X\" * n) # print the top side of the square\n",
    "    \n",
    "    for i in range(n - 2): \n",
    "        print(\"X\" + \" \" * (n - 2) + \"X\") #print the middle part of the square (hollow)\n",
    "    \n",
    "    if n > 1:  # Only print bottom if n > 1 to avoid duplicate top row for n = 1\n",
    "        print(\"X\" * n) #print the bottom side of the square\n",
    "\n",
    "n = int(input(\"Enter the side length of the square: \")) # ask the user for the side length\n",
    "\n",
    "hollow_square(n)"
   ]
  },
  {
   "cell_type": "markdown",
   "id": "e452fdaf-ac6c-441f-99fe-883136871082",
   "metadata": {},
   "source": [
    "**Exercise 4: Inverted right triangle**  \n",
    "Generate an Inverted right triangle of height n."
   ]
  },
  {
   "cell_type": "code",
   "execution_count": 11,
   "id": "17b11b78-e3d2-49c8-bfb7-96558801ae2f",
   "metadata": {},
   "outputs": [
    {
     "name": "stdin",
     "output_type": "stream",
     "text": [
      "Enter the height of the triangle:  7\n"
     ]
    },
    {
     "name": "stdout",
     "output_type": "stream",
     "text": [
      "*******\n",
      "******\n",
      "*****\n",
      "****\n",
      "***\n",
      "**\n",
      "*\n"
     ]
    }
   ],
   "source": [
    "def inverted_right_triangle(n):\n",
    "    # loop to print rows, starting from n asterisks down to 1\n",
    "    for i in range(n, 0, -1):  # i goes from n down to 1\n",
    "        print(\"*\" * i)  # Print i asterisks for each row\n",
    "\n",
    "n = int(input(\"Enter the height of the triangle: \")) # Ask the user for the height of the triangle\n",
    "\n",
    "inverted_right_triangle(n)"
   ]
  }
 ],
 "metadata": {
  "kernelspec": {
   "display_name": "Python 3 (ipykernel)",
   "language": "python",
   "name": "python3"
  },
  "language_info": {
   "codemirror_mode": {
    "name": "ipython",
    "version": 3
   },
   "file_extension": ".py",
   "mimetype": "text/x-python",
   "name": "python",
   "nbconvert_exporter": "python",
   "pygments_lexer": "ipython3",
   "version": "3.11.4"
  }
 },
 "nbformat": 4,
 "nbformat_minor": 5
}
